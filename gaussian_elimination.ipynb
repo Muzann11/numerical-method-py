{
  "nbformat": 4,
  "nbformat_minor": 0,
  "metadata": {
    "colab": {
      "provenance": [],
      "authorship_tag": "ABX9TyPUVA6g5jmlVlqRx/Ba8sFu",
      "include_colab_link": true
    },
    "kernelspec": {
      "name": "python3",
      "display_name": "Python 3"
    },
    "language_info": {
      "name": "python"
    }
  },
  "cells": [
    {
      "cell_type": "markdown",
      "metadata": {
        "id": "view-in-github",
        "colab_type": "text"
      },
      "source": [
        "<a href=\"https://colab.research.google.com/github/Nazzz11/numerical-method-py/blob/main/gaussian_elimination.ipynb\" target=\"_parent\"><img src=\"https://colab.research.google.com/assets/colab-badge.svg\" alt=\"Open In Colab\"/></a>"
      ]
    },
    {
      "cell_type": "markdown",
      "source": [
        "### Machine Learning: To calculate the solution of linear equations in a regression algorithm."
      ],
      "metadata": {
        "id": "KsHc2MvKG0Jg"
      }
    },
    {
      "cell_type": "code",
      "source": [
        "import numpy as np\n",
        "\n",
        "def gauss_method(A, b):\n",
        "    n = len(b)\n",
        "    Ab = np.hstack([A, b.reshape(-1, 1)])  # Combine matrix A with vector b as the last column\n",
        "    steps = [Ab.copy()]  # Store each step of Gaussian elimination\n",
        "    step_descriptions = []  # Descriptions of each step\n",
        "\n",
        "    for i in range(n):\n",
        "        # If the pivot element is zero, swap with another row\n",
        "        if Ab[i, i] == 0:\n",
        "            for j in range(i + 1, n):\n",
        "                if Ab[j, i] != 0:\n",
        "                    Ab[[i, j]] = Ab[[j, i]]\n",
        "                    step_descriptions.append(f\"Swap row {i+1} with row {j+1}\")\n",
        "                    steps.append(Ab.copy())\n",
        "                    break\n",
        "\n",
        "        # Normalize the pivot row\n",
        "        factor = Ab[i, i]  # Diagonal element\n",
        "        if factor != 0:\n",
        "            Ab[i, i:] /= factor\n",
        "            step_descriptions.append(f\"Row {i+1} / {factor:.2f}\")\n",
        "            steps.append(Ab.copy())\n",
        "\n",
        "        # Eliminate elements below the pivot\n",
        "        for j in range(i + 1, n):\n",
        "            factor = Ab[j, i]\n",
        "            Ab[j, i:] -= factor * Ab[i, i:]  # Subtract the pivot row from the current row\n",
        "            step_descriptions.append(f\"Row {j+1} - {factor:.2f} * Row {i+1}\")\n",
        "            steps.append(Ab.copy())\n",
        "\n",
        "    # Back substitution (solving the linear system)\n",
        "    x = np.zeros(n)  # Vector to store the solution\n",
        "    for i in range(n - 1, -1, -1):\n",
        "        x[i] = Ab[i, -1] - np.dot(Ab[i, i+1:n], x[i+1:n])  # Ab[i, -1] contains the result vector\n",
        "    return x, steps, step_descriptions\n",
        "\n",
        "def print_steps(steps, step_descriptions):\n",
        "    for i, (step, operation) in enumerate(zip(steps, step_descriptions)):  # Combine steps with their descriptions\n",
        "        print(f\"Step {i+1}: {operation}\")\n",
        "        for row in step:\n",
        "            print(\"[\" + \" \".join(f\"{val:8.4f}\" for val in row[:-1]) + \" | \" + f\"{row[-1]:8.4f}\" + \"]\")\n",
        "        print()\n",
        "\n",
        "# Input matrix A and vector b\n",
        "A = np.array([[1, 1, 1],\n",
        "              [1, 2, -1],\n",
        "              [2, 1, 2]], dtype=float)\n",
        "b = np.array([6, 2, 10], dtype=float)\n",
        "\n",
        "# Solve using Gauss method\n",
        "x, steps, step_descriptions = gauss_method(A, b)\n",
        "\n",
        "# Append the final result\n",
        "steps.append(np.hstack([A, b.reshape(-1, 1)]))\n",
        "step_descriptions.append(\"Final diagonal form with all 1s\")\n",
        "\n",
        "# Print the solution\n",
        "print(\"Solution:\")\n",
        "for i, xi in enumerate(x):\n",
        "    print(f\"x{i+1} = {xi:.2f}\")\n",
        "\n",
        "# Print the steps\n",
        "print_steps(steps, step_descriptions)\n"
      ],
      "metadata": {
        "colab": {
          "base_uri": "https://localhost:8080/"
        },
        "id": "4vcI8F0NkD9T",
        "outputId": "acf8a235-d3e0-444d-9010-8fa8859eed1e"
      },
      "execution_count": 1,
      "outputs": [
        {
          "output_type": "stream",
          "name": "stdout",
          "text": [
            "Solution:\n",
            "x1 = 1.00\n",
            "x2 = 2.00\n",
            "x3 = 3.00\n",
            "Step 1: Row 1 / 1.00\n",
            "[  1.0000   1.0000   1.0000 |   6.0000]\n",
            "[  1.0000   2.0000  -1.0000 |   2.0000]\n",
            "[  2.0000   1.0000   2.0000 |  10.0000]\n",
            "\n",
            "Step 2: Row 2 - 1.00 * Row 1\n",
            "[  1.0000   1.0000   1.0000 |   6.0000]\n",
            "[  1.0000   2.0000  -1.0000 |   2.0000]\n",
            "[  2.0000   1.0000   2.0000 |  10.0000]\n",
            "\n",
            "Step 3: Row 3 - 2.00 * Row 1\n",
            "[  1.0000   1.0000   1.0000 |   6.0000]\n",
            "[  0.0000   1.0000  -2.0000 |  -4.0000]\n",
            "[  2.0000   1.0000   2.0000 |  10.0000]\n",
            "\n",
            "Step 4: Row 2 / 1.00\n",
            "[  1.0000   1.0000   1.0000 |   6.0000]\n",
            "[  0.0000   1.0000  -2.0000 |  -4.0000]\n",
            "[  0.0000  -1.0000   0.0000 |  -2.0000]\n",
            "\n",
            "Step 5: Row 3 - -1.00 * Row 2\n",
            "[  1.0000   1.0000   1.0000 |   6.0000]\n",
            "[  0.0000   1.0000  -2.0000 |  -4.0000]\n",
            "[  0.0000  -1.0000   0.0000 |  -2.0000]\n",
            "\n",
            "Step 6: Row 3 / -2.00\n",
            "[  1.0000   1.0000   1.0000 |   6.0000]\n",
            "[  0.0000   1.0000  -2.0000 |  -4.0000]\n",
            "[  0.0000   0.0000  -2.0000 |  -6.0000]\n",
            "\n",
            "Step 7: Final diagonal form with all 1s\n",
            "[  1.0000   1.0000   1.0000 |   6.0000]\n",
            "[  0.0000   1.0000  -2.0000 |  -4.0000]\n",
            "[  0.0000   0.0000   1.0000 |   3.0000]\n",
            "\n"
          ]
        }
      ]
    }
  ]
}