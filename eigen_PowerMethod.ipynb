{
  "nbformat": 4,
  "nbformat_minor": 0,
  "metadata": {
    "colab": {
      "provenance": [],
      "authorship_tag": "ABX9TyMV3IWHPvRfX26obPT1aVey",
      "include_colab_link": true
    },
    "kernelspec": {
      "name": "python3",
      "display_name": "Python 3"
    },
    "language_info": {
      "name": "python"
    }
  },
  "cells": [
    {
      "cell_type": "markdown",
      "metadata": {
        "id": "view-in-github",
        "colab_type": "text"
      },
      "source": [
        "<a href=\"https://colab.research.google.com/github/Nazzz11/numerical-method-py/blob/main/eigen_PowerMethod.ipynb\" target=\"_parent\"><img src=\"https://colab.research.google.com/assets/colab-badge.svg\" alt=\"Open In Colab\"/></a>"
      ]
    },
    {
      "cell_type": "code",
      "execution_count": null,
      "metadata": {
        "colab": {
          "base_uri": "https://localhost:8080/"
        },
        "id": "2tlpbLgouvmy",
        "outputId": "ba78ee95-e09c-4766-a54b-ba874acbec1f"
      },
      "outputs": [
        {
          "output_type": "stream",
          "name": "stdout",
          "text": [
            "Eigen: 4.000001473505178\n",
            "Eigen Vector: [ 1.00000000e+00  1.47350952e-06 -4.20013965e-12]\n"
          ]
        }
      ],
      "source": [
        "import numpy as np\n",
        "\n",
        "def power_method(matriks, jumlah_iterasi=1000, toleran=1e-6):\n",
        "    ukuran, _ = matriks.shape\n",
        "    random_vector = np.random.rand(ukuran)\n",
        "\n",
        "    for _ in range(jumlah_iterasi):\n",
        "        new_vector = np.dot(matriks, random_vector)\n",
        "\n",
        "        norma_new_vector = np.linalg.norm(new_vector)\n",
        "        new_vector = new_vector / norma_new_vector\n",
        "\n",
        "        if np.linalg.norm(new_vector - random_vector) < toleran:\n",
        "            break\n",
        "\n",
        "        random_vector = new_vector\n",
        "\n",
        "    eigen = np.dot(random_vector.T, np.dot(matriks, random_vector))\n",
        "    return eigen, random_vector\n",
        "\n",
        "matriks = np.array([[4, 1, 0],\n",
        "                    [0, 2, 1],\n",
        "                    [0, 0, -1]])\n",
        "\n",
        "eigen, vektor_eigen = power_method(matriks)\n",
        "\n",
        "print(\"Eigen:\", eigen)\n",
        "print(\"Eigen Vector:\", vektor_eigen)\n"
      ]
    }
  ]
}