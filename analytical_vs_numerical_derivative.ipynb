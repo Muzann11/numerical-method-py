{
  "cells": [
    {
      "cell_type": "markdown",
      "metadata": {
        "id": "view-in-github",
        "colab_type": "text"
      },
      "source": [
        "<a href=\"https://colab.research.google.com/github/Nazzz11/numerical-method-py/blob/main/analytical_vs_numerical_derivative.ipynb\" target=\"_parent\"><img src=\"https://colab.research.google.com/assets/colab-badge.svg\" alt=\"Open In Colab\"/></a>"
      ]
    },
    {
      "cell_type": "markdown",
      "source": [
        "this code will calculate the derivatives of functions both analytically and numerically and compare the two."
      ],
      "metadata": {
        "id": "oSnBPJ9yLJpi"
      }
    },
    {
      "cell_type": "code",
      "source": [
        "import sympy as sp\n",
        "\n",
        "def get_user_function():\n",
        "    user_input = input(\"Enter the function f(x) to compare: \")\n",
        "    x = sp.symbols('x')\n",
        "    function_expr = sp.sympify(user_input)  # Convert the string input into a sympy expression\n",
        "    return lambda x_value: function_expr.subs(x, x_value), function_expr\n",
        "\n",
        "def df_analytical(polynomial_expr, x_value):\n",
        "    x = sp.symbols('x')\n",
        "    derivative_value = sp.diff(polynomial_expr, x).subs(x, x_value)  # Calculate the derivative at x_value\n",
        "    return derivative_value\n",
        "\n",
        "def df_taylor(f, x, h=1e-5):\n",
        "    # Numerical derivative using the Taylor approximation\n",
        "    return (f(x + h) - f(x)) / h\n",
        "\n",
        "def calculate_error(df_approx, df_exact):\n",
        "    # Calculates the error between the numerical and analytical derivatives\n",
        "    return abs(df_approx - df_exact)\n",
        "\n",
        "# Get the function and its symbolic representation\n",
        "f, polynomial_expr = get_user_function()\n",
        "\n",
        "x_value = float(input(\"Enter the value of x to compute the derivative: \"))\n",
        "\n",
        "df_exact = df_analytical(polynomial_expr, x_value)\n",
        "df_approx = df_taylor(f, x_value)\n",
        "error = calculate_error(df_approx, df_exact)\n",
        "\n",
        "print(f\"Analytical derivative f'({x_value}) = {df_exact}\")\n",
        "print(f\"Numerical derivative f'({x_value}) = {df_approx}\")\n",
        "print(f\"Error = {error}\")\n"
      ],
      "metadata": {
        "colab": {
          "base_uri": "https://localhost:8080/"
        },
        "id": "aokG6ZvgCmpL",
        "outputId": "cc2d9b79-e99a-4692-f553-e5e73b93f83d"
      },
      "execution_count": 10,
      "outputs": [
        {
          "output_type": "stream",
          "name": "stdout",
          "text": [
            "Enter the function f(x) to compare: x**3 - 5*x + 2\n",
            "Enter the value of x to compute the derivative: 2\n",
            "Analytical derivative f'(2.0) = 7.00000000000000\n",
            "Numerical derivative f'(2.0) = 7.00006000027287\n",
            "Error = 0.0000600002728665672\n"
          ]
        }
      ]
    }
  ],
  "metadata": {
    "colab": {
      "provenance": [],
      "authorship_tag": "ABX9TyPZ7Iov3uUs+//vAQxNYpEL",
      "include_colab_link": true
    },
    "kernelspec": {
      "display_name": "Python 3",
      "name": "python3"
    },
    "language_info": {
      "name": "python"
    }
  },
  "nbformat": 4,
  "nbformat_minor": 0
}